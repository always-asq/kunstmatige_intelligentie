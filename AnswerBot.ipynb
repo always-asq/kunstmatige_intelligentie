{
 "cells": [
  {
   "attachments": {},
   "cell_type": "markdown",
   "metadata": {},
   "source": [
    "# Interaction with Chat-GPT through an API\n",
    "\n",
    "In this notebook we try to talk to Chat-GPT from OpenAI using an Application Programming Interface.  \n",
    "We send a request to the server and from the response we gather the text and output it."
   ]
  },
  {
   "attachments": {},
   "cell_type": "markdown",
   "metadata": {},
   "source": [
    "First we import some libraries (`os` and `openai`).  \n",
    "Then we use the `load_dotenv` function from `dotenv` to gather the environment from the openai.env file.  \n",
    "And we get some functions from pprint to make the output nicer."
   ]
  },
  {
   "cell_type": "code",
   "execution_count": null,
   "metadata": {
    "vscode": {
     "languageId": "python"
    }
   },
   "outputs": [],
   "source": [
    "import os\n",
    "# openai is a library containing all the code for the API\n",
    "import openai\n",
    "\n",
    "from pprint import pprint, pformat\n",
    "from dotenv import load_dotenv, get_key\n"
   ]
  },
  {
   "attachments": {},
   "cell_type": "markdown",
   "metadata": {},
   "source": [
    "Execute the `load_dotenv` function to get the environment from a file, including the API key."
   ]
  },
  {
   "cell_type": "code",
   "execution_count": null,
   "metadata": {
    "vscode": {
     "languageId": "python"
    }
   },
   "outputs": [],
   "source": [
    "\n",
    "# Get the path to the directory this file is in\n",
    "BASEDIR = os.path.abspath('')\n",
    "# Connect the path with your '.env' file name\n",
    "if not load_dotenv('/etc/openai.env'):\n",
    "    print(\"Environment not found!\")\n"
   ]
  },
  {
   "attachments": {},
   "cell_type": "markdown",
   "metadata": {},
   "source": [
    "We grab the API key from the environment and set it in the openai structure."
   ]
  },
  {
   "cell_type": "code",
   "execution_count": null,
   "metadata": {
    "vscode": {
     "languageId": "python"
    }
   },
   "outputs": [],
   "source": [
    "openai.api_key = os.getenv(\"OPENAI_API_KEY\")"
   ]
  },
  {
   "attachments": {},
   "cell_type": "markdown",
   "metadata": {},
   "source": [
    "Let us define a function that we can call.  \n",
    "To this function we call our message (our question) that we want to pass to Chat-GPT.  \n",
    "\n",
    "The function also includes some system messages, to set up the chatbot with a new identity."
   ]
  },
  {
   "cell_type": "code",
   "execution_count": null,
   "metadata": {
    "vscode": {
     "languageId": "python"
    }
   },
   "outputs": [],
   "source": [
    "initial_messages = [{\"role\": \"system\", \n",
    "             \"content\": \"You are called AnswerBot. You are the chatbot for the company called Always Asq. Where Asq stands for Ask Straightforward Questions.\"},\n",
    "            {\"role\": \"system\", \n",
    "             \"content\": \"Always Asq is focused on helping people ask questions. Other definitions for the s in Asq are simple, strategic, stupendous or stupid.\"},\n",
    "            {\"role\": \"system\", \n",
    "             \"content\": \"Always Asq uses training and information to help ask questions in technology and IT related fields.\"},\n",
    "            {\"role\": \"user\",\n",
    "             \"content\": \"Can you tell us what we are doing here?\"},\n",
    "            {\"role\": \"assistant\",\n",
    "             \"content\": \"Today is March 20, 2023 and we are in Apeldoorn in the training called 'Kunstmatige Intelligentie'. Todays trainer is Jeroen van Hoof.\"}]\n",
    "stored_messages = []\n",
    "stored_responses = []\n",
    "\n",
    "def chat_with_GPT(message, initial_message = False):\n",
    "    if initial_message:\n",
    "        messages = initial_messages\n",
    "        messages.append({\"role\": \"user\", \"content\": message})\n",
    "        stored_messages.append({\"role\": \"user\", \"content\": message})\n",
    "    else:\n",
    "        messages = initial_messages\n",
    "        for i in range(0,len(stored_messages)):\n",
    "            messages.append(stored_messages[i])\n",
    "            messages.append(stored_responses[i])\n",
    "        messages.append({\"role\": \"user\", \"content\": message})\n",
    "    openai.api_key = os.getenv(\"OPENAI_API_KEY\")\n",
    "    \n",
    "    response = openai.ChatCompletion.create(\n",
    "     model=\"gpt-3.5-turbo\",\n",
    "     messages = messages\n",
    "            )\n",
    "    stored_responses.append(response.choices[0].message)\n",
    "    return pformat(response.choices[0].message.content)"
   ]
  },
  {
   "attachments": {},
   "cell_type": "markdown",
   "metadata": {},
   "source": [
    "First, let's be friendly and ask the bot who it is."
   ]
  },
  {
   "cell_type": "code",
   "execution_count": null,
   "metadata": {
    "vscode": {
     "languageId": "python"
    }
   },
   "outputs": [],
   "source": [
    "\n",
    "print(chat_with_GPT('Hi, who are you?', initial_message=True))\n"
   ]
  },
  {
   "attachments": {},
   "cell_type": "markdown",
   "metadata": {},
   "source": [
    "Ask some info on Always Asq."
   ]
  },
  {
   "cell_type": "code",
   "execution_count": null,
   "metadata": {
    "vscode": {
     "languageId": "python"
    }
   },
   "outputs": [],
   "source": [
    "print(chat_with_GPT('What is Always Asq?'))"
   ]
  },
  {
   "attachments": {},
   "cell_type": "markdown",
   "metadata": {},
   "source": [
    "Let's check if it knows the date. And some other details about today."
   ]
  },
  {
   "cell_type": "code",
   "execution_count": null,
   "metadata": {
    "vscode": {
     "languageId": "python"
    }
   },
   "outputs": [],
   "source": [
    "print(chat_with_GPT('What is todays date?'))"
   ]
  },
  {
   "cell_type": "code",
   "execution_count": null,
   "metadata": {
    "vscode": {
     "languageId": "python"
    }
   },
   "outputs": [],
   "source": [
    "print(chat_with_GPT('Who is todays trainer?'))"
   ]
  },
  {
   "cell_type": "code",
   "execution_count": null,
   "metadata": {
    "vscode": {
     "languageId": "python"
    }
   },
   "outputs": [],
   "source": [
    "print(chat_with_GPT('What is the name of todays training?'))"
   ]
  },
  {
   "attachments": {},
   "cell_type": "markdown",
   "metadata": {},
   "source": [
    "Please feel free to add your own questions below:"
   ]
  },
  {
   "cell_type": "code",
   "execution_count": null,
   "metadata": {
    "vscode": {
     "languageId": "python"
    }
   },
   "outputs": [],
   "source": [
    "print(chat_with_GPT('    '))"
   ]
  }
 ],
 "metadata": {
  "kernelspec": {
   "display_name": "Python 3 (ipykernel)",
   "language": "python",
   "name": "python3"
  }
 },
 "nbformat": 4,
 "nbformat_minor": 2
}
