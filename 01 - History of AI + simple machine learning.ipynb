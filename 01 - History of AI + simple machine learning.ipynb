{
 "cells": [
  {
   "cell_type": "markdown",
   "id": "12e397e0",
   "metadata": {},
   "source": [
    "**Table of contents**<a id='toc0_'></a>    \n",
    "- [Jeroen van Hoof](#toc1_1_1_1_)    \n",
    "        - [March 2023](#toc1_1_1_1_1_)    \n",
    "  - [Artificial Intelligence](#toc1_2_)    \n",
    "    - [Machine Learning](#toc1_2_1_)    \n",
    "  - [General programming:](#toc1_3_)    \n",
    "  - [Machine learning:](#toc1_4_)    \n",
    "  - [Example of general programming](#toc1_5_)    \n",
    "  - [Example of general programming](#toc1_6_)    \n",
    "  - [Example of general programming](#toc1_7_)    \n",
    "  - [Example of general programming](#toc1_8_)    \n",
    "  - [General programming](#toc1_9_)    \n",
    "  - [Machine learning](#toc1_10_)    \n",
    "  - [We need a neural network](#toc1_11_)    \n",
    "\n",
    "<!-- vscode-jupyter-toc-config\n",
    "\tnumbering=false\n",
    "\tanchor=true\n",
    "\tflat=false\n",
    "\tminLevel=1\n",
    "\tmaxLevel=6\n",
    "\t/vscode-jupyter-toc-config -->\n",
    "<!-- THIS CELL WILL BE REPLACED ON TOC UPDATE. DO NOT WRITE YOUR TEXT IN THIS CELL -->"
   ]
  },
  {
   "cell_type": "markdown",
   "id": "e5aec5d6",
   "metadata": {},
   "source": [
    "\n",
    "<div align=\"left\">\n",
    "  <span style=\"color:black; font-family:Arial; font-size:3em;\">Kunstmatige Intelligentie - 01 - History of AI + simple machine Learning Introduction</span>\n",
    "</div>\n",
    "\n",
    "\n",
    "#### <a id='toc1_1_1_1_'></a>[Jeroen van Hoof](#toc0_)\n",
    "##### <a id='toc1_1_1_1_1_'></a>[March 2023](#toc0_)\n"
   ]
  },
  {
   "cell_type": "markdown",
   "id": "1864e454",
   "metadata": {
    "cell_style": "split",
    "id": "1864e454"
   },
   "source": [
    "<div align=\"center\">\n",
    "  <span style=\"color:red; font-family:Arial; font-size:2em;\">What is Intelligence?</span>\n",
    "</div>\n",
    "\n",
    "----\n",
    "\n",
    "<div align=\"center\">\n",
    "    <span style=\"color:red\">Intelligence</span> is the ability to adapt one's behaviour to fit new circumstances.\n",
    "</div>"
   ]
  },
  {
   "attachments": {},
   "cell_type": "markdown",
   "id": "50f0a3ad",
   "metadata": {},
   "source": [
    "![alt text](figs/history.png \"History of AI\") "
   ]
  },
  {
   "cell_type": "markdown",
   "id": "eeccb1d1",
   "metadata": {},
   "source": [
    "## <a id='toc1_2_'></a>[Artificial Intelligence](#toc0_)\n",
    "\n",
    "AI is when intelligence is present in an artificial construct, for example a computer\n",
    "\n",
    "### <a id='toc1_2_1_'></a>[Machine Learning](#toc0_)\n",
    "\n",
    "ML is a subset of AI that uses advanced statistics and linear algebra to enable a machine to learn rules that make the machine behave in a way that resembles intelligence"
   ]
  },
  {
   "attachments": {},
   "cell_type": "markdown",
   "id": "5a226f0e",
   "metadata": {},
   "source": [
    "<img src=\"figs/subsets.jpg\" width=\"600px\" align=\"center\">"
   ]
  },
  {
   "cell_type": "markdown",
   "id": "e0f74321",
   "metadata": {},
   "source": [
    "## <a id='toc1_3_'></a>[General programming:](#toc0_)\n",
    "\n",
    "1. Data\n",
    "2. Program or Rules\n",
    "3. -> Results\n",
    "\n",
    "## <a id='toc1_4_'></a>[Machine learning:](#toc0_)\n",
    "1. Data\n",
    "2. Results\n",
    "3. -> Rules\n",
    "\n",
    "\n"
   ]
  },
  {
   "attachments": {},
   "cell_type": "markdown",
   "id": "e1c6cb73",
   "metadata": {},
   "source": [
    "\n",
    "<div align=\"center\">\n",
    "        <img src=\"figs/models2.png\" width=\"600px\"></img>\n",
    "</div>"
   ]
  },
  {
   "cell_type": "markdown",
   "id": "3feb74f7",
   "metadata": {},
   "source": [
    "## <a id='toc1_5_'></a>[Example of general programming](#toc0_)\n",
    "\n",
    "<img src=\"figs/activity recognition 1.png\" width=\"50%\"> </img>"
   ]
  },
  {
   "cell_type": "markdown",
   "id": "8ae8c16e",
   "metadata": {},
   "source": [
    "## <a id='toc1_6_'></a>[Example of general programming](#toc0_)\n",
    "\n",
    "<img src=\"figs/activity recognition 2.png\" width=\"50%\"> </img>"
   ]
  },
  {
   "cell_type": "markdown",
   "id": "f90b5314",
   "metadata": {},
   "source": [
    "## <a id='toc1_7_'></a>[Example of general programming](#toc0_)\n",
    "\n",
    "<img src=\"figs/activity recognition 3a.png\" width=\"50%\"> </img>"
   ]
  },
  {
   "cell_type": "markdown",
   "id": "eb6480a0",
   "metadata": {},
   "source": [
    "## <a id='toc1_8_'></a>[Example of general programming](#toc0_)\n",
    "\n",
    "<img src=\"figs/activity recognition 4.png\" width=\"50%\"> </img>"
   ]
  },
  {
   "cell_type": "markdown",
   "id": "e58b9138",
   "metadata": {},
   "source": [
    "## <a id='toc1_9_'></a>[General programming](#toc0_)\n",
    "\n",
    "1. Our data is a set of values for X:\n",
    "{1.0, 2.0, 4.0, 7.0}\n",
    "2. The rule is Y = 2 * X - 1\n",
    "\n",
    "What are the results?"
   ]
  },
  {
   "cell_type": "code",
   "execution_count": null,
   "id": "77a8f703",
   "metadata": {
    "id": "77a8f703"
   },
   "outputs": [],
   "source": [
    "import os\n",
    "import matplotlib.pyplot as plt"
   ]
  },
  {
   "cell_type": "code",
   "execution_count": null,
   "id": "c4f751a7",
   "metadata": {
    "cell_style": "split",
    "colab": {
     "base_uri": "https://localhost:8080/"
    },
    "executionInfo": {
     "elapsed": 4,
     "status": "ok",
     "timestamp": 1665670190773,
     "user": {
      "displayName": "Jeroen B van Hoof",
      "userId": "06852595963407324137"
     },
     "user_tz": -120
    },
    "id": "c4f751a7",
    "outputId": "8e1e4361-d00a-43db-e905-fb18bef9ad66"
   },
   "outputs": [],
   "source": [
    "Xs = [1.0, 2.0, 4.0, 7.0]\n",
    "Ys = [2 * x - 1 for x in Xs]\n",
    "Ys\n"
   ]
  },
  {
   "cell_type": "code",
   "execution_count": null,
   "id": "96d5b6d4",
   "metadata": {
    "cell_style": "split",
    "colab": {
     "base_uri": "https://localhost:8080/",
     "height": 265
    },
    "executionInfo": {
     "elapsed": 348,
     "status": "ok",
     "timestamp": 1665670199947,
     "user": {
      "displayName": "Jeroen B van Hoof",
      "userId": "06852595963407324137"
     },
     "user_tz": -120
    },
    "id": "96d5b6d4",
    "outputId": "ccbc92d5-2cd0-4217-b07c-aa39f799cc70",
    "tags": [
     "hide-input"
    ]
   },
   "outputs": [],
   "source": [
    "# As a graph\n",
    "\n",
    "plt.plot(Xs, Ys, \"bo\")\n",
    "plt.show()\n"
   ]
  },
  {
   "cell_type": "code",
   "execution_count": null,
   "id": "dfc0f129",
   "metadata": {},
   "outputs": [],
   "source": [
    "# Rule for multiple values of X\n",
    "\n",
    "plt.plot(Xs,Ys,\"bo\")\n",
    "# start/end X + start/end Y \n",
    "plt.plot([1.0,10.0],[1.0,19.0],\"y-\")\n",
    "plt.show()"
   ]
  },
  {
   "cell_type": "markdown",
   "id": "c9984ec5",
   "metadata": {},
   "source": [
    "## <a id='toc1_10_'></a>[Machine learning](#toc0_)\n",
    "\n",
    "1. Our data is a set of values for X:   \n",
    "{1.0, 2.0, 4.0, 7.0}\n",
    "2. Our results are a set of Ys:  \n",
    "{1.0, 3.0, 7.0, 13.0}\n",
    "\n",
    "What is the rule?"
   ]
  },
  {
   "cell_type": "markdown",
   "id": "cdf233e0",
   "metadata": {},
   "source": [
    "## <a id='toc1_11_'></a>[We need a neural network](#toc0_)\n",
    "\n",
    "The most simple neural network is the perceptron.  \n",
    "It has one input and one output.\n",
    "\n",
    "<img src=\"figs/perceptron.png\" width=\"50%\"> </img>"
   ]
  },
  {
   "cell_type": "code",
   "execution_count": null,
   "id": "00405f31",
   "metadata": {
    "cell_style": "center",
    "colab": {
     "base_uri": "https://localhost:8080/"
    },
    "executionInfo": {
     "elapsed": 4207,
     "status": "ok",
     "timestamp": 1665670279480,
     "user": {
      "displayName": "Jeroen B van Hoof",
      "userId": "06852595963407324137"
     },
     "user_tz": -120
    },
    "id": "00405f31",
    "outputId": "a1ddce65-27a5-411f-9cfb-f1bf2e884086"
   },
   "outputs": [],
   "source": [
    "# remove tensorflow warnings\n",
    "os.environ['TF_CPP_MIN_LOG_LEVEL'] = '2'\n",
    "\n",
    "# we will use tensorflow and Keras\n",
    "import tensorflow as tf\n",
    "from tensorflow import keras\n",
    "from tensorflow.keras import layers\n",
    "\n",
    "# model is our neural network\n",
    "# 1 layer and 1 node = perceptron\n",
    "\n",
    "model = keras.Sequential( [\n",
    "    keras.layers.Dense(1,input_shape=[1]),\n",
    "])\n",
    "model.summary()"
   ]
  },
  {
   "cell_type": "code",
   "execution_count": null,
   "id": "df60fcf6",
   "metadata": {
    "cell_style": "split",
    "colab": {
     "base_uri": "https://localhost:8080/"
    },
    "executionInfo": {
     "elapsed": 2010,
     "status": "ok",
     "timestamp": 1665670324666,
     "user": {
      "displayName": "Jeroen B van Hoof",
      "userId": "06852595963407324137"
     },
     "user_tz": -120
    },
    "id": "df60fcf6",
    "outputId": "be00a9a9-e12d-4428-849e-80172d67badb"
   },
   "outputs": [],
   "source": [
    "# we compile the model\n",
    "\n",
    "model.compile(\n",
    "    optimizer=tf.optimizers.Adam(0.1),\n",
    "    loss='mean_absolute_error',\n",
    "    metrics=['accuracy'])\n",
    "\n",
    "# train with our data (Xs) and results (Ys)\n",
    "model.fit(Xs,Ys, epochs=5, verbose=1)"
   ]
  },
  {
   "cell_type": "code",
   "execution_count": null,
   "id": "ed420d75",
   "metadata": {
    "cell_style": "split",
    "colab": {
     "base_uri": "https://localhost:8080/"
    },
    "executionInfo": {
     "elapsed": 811,
     "status": "ok",
     "timestamp": 1665670364136,
     "user": {
      "displayName": "Jeroen B van Hoof",
      "userId": "06852595963407324137"
     },
     "user_tz": -120
    },
    "id": "ed420d75",
    "outputId": "66908286-7aea-4dbf-979e-8c4e1db095be"
   },
   "outputs": [],
   "source": [
    "# how good is it?\n",
    "# model.predict shows output for input(s)\n",
    "\n",
    "model.predict(Xs)\n"
   ]
  },
  {
   "cell_type": "code",
   "execution_count": null,
   "id": "6a706c4d",
   "metadata": {
    "cell_style": "split",
    "colab": {
     "base_uri": "https://localhost:8080/"
    },
    "executionInfo": {
     "elapsed": 2787,
     "status": "ok",
     "timestamp": 1665670391460,
     "user": {
      "displayName": "Jeroen B van Hoof",
      "userId": "06852595963407324137"
     },
     "user_tz": -120
    },
    "id": "6a706c4d",
    "outputId": "866af500-a01d-4ba7-a852-84b3cc03e040"
   },
   "outputs": [],
   "source": [
    "# lets try to learn longer\n",
    "\n",
    "# train with our data (Xs) and results (Ys)\n",
    "model.fit(Xs,Ys, epochs=100, verbose=0)"
   ]
  },
  {
   "cell_type": "code",
   "execution_count": null,
   "id": "e44831f9",
   "metadata": {
    "cell_style": "split",
    "colab": {
     "base_uri": "https://localhost:8080/"
    },
    "executionInfo": {
     "elapsed": 854,
     "status": "ok",
     "timestamp": 1665670396839,
     "user": {
      "displayName": "Jeroen B van Hoof",
      "userId": "06852595963407324137"
     },
     "user_tz": -120
    },
    "id": "e44831f9",
    "outputId": "f214def1-693a-46dd-ed8a-66a176857620"
   },
   "outputs": [],
   "source": [
    "# how good is it now?\n",
    "# model.predict shows output for input(s)\n",
    "\n",
    "model.predict(Xs)"
   ]
  },
  {
   "cell_type": "code",
   "execution_count": null,
   "id": "0047137c",
   "metadata": {
    "cell_style": "split",
    "colab": {
     "base_uri": "https://localhost:8080/"
    },
    "executionInfo": {
     "elapsed": 304,
     "status": "ok",
     "timestamp": 1665670486221,
     "user": {
      "displayName": "Jeroen B van Hoof",
      "userId": "06852595963407324137"
     },
     "user_tz": -120
    },
    "id": "0047137c",
    "outputId": "f9e78cdc-809e-40ba-c732-f7b6adf7adf4"
   },
   "outputs": [],
   "source": [
    "# our original results\n",
    "Ys"
   ]
  },
  {
   "cell_type": "code",
   "execution_count": null,
   "id": "eef600e9",
   "metadata": {
    "cell_style": "split",
    "colab": {
     "base_uri": "https://localhost:8080/",
     "height": 265
    },
    "executionInfo": {
     "elapsed": 372,
     "status": "ok",
     "timestamp": 1665670490503,
     "user": {
      "displayName": "Jeroen B van Hoof",
      "userId": "06852595963407324137"
     },
     "user_tz": -120
    },
    "id": "eef600e9",
    "outputId": "fdb22870-caaa-4a6f-b037-0e9906ae4d52"
   },
   "outputs": [],
   "source": [
    "# General programming\n",
    "\n",
    "plt.plot(Xs,Ys,\"bo\")\n",
    "# start/end X + start/end Y \n",
    "plt.plot([1.0,10.0],[1.0,19.0],\"y-\")\n",
    "plt.show()"
   ]
  },
  {
   "cell_type": "code",
   "execution_count": null,
   "id": "73a81fc1",
   "metadata": {
    "cell_style": "split",
    "colab": {
     "base_uri": "https://localhost:8080/",
     "height": 300
    },
    "executionInfo": {
     "elapsed": 360,
     "status": "ok",
     "timestamp": 1665670516370,
     "user": {
      "displayName": "Jeroen B van Hoof",
      "userId": "06852595963407324137"
     },
     "user_tz": -120
    },
    "id": "73a81fc1",
    "outputId": "37f5538a-2566-42db-b702-9a208eaf9484"
   },
   "outputs": [],
   "source": [
    "# Machine learning\n",
    "\n",
    "plt.plot(Xs,Ys,\"bX\")\n",
    "#generate many outputs with the perceptron\n",
    "Xline = [i * 0.1 for i in range(10,101)]\n",
    "Yline = model.predict(Xline)\n",
    "plt.plot(Xline,Yline,\"y.\")"
   ]
  },
  {
   "cell_type": "code",
   "execution_count": null,
   "id": "477fcb7e",
   "metadata": {
    "cell_style": "split",
    "id": "477fcb7e",
    "outputId": "c65fee92-850c-458e-f970-ea2a2ac5c19e"
   },
   "outputs": [],
   "source": [
    "import numpy as np\n",
    "import matplotlib.pyplot as plt\n",
    "X = np.random.uniform(0,50,100)\n",
    "Y = np.random.uniform(0,30,100)\n",
    "\n",
    "plt.plot(X,Y,'bo')\n",
    "plt.show()"
   ]
  },
  {
   "cell_type": "code",
   "execution_count": null,
   "id": "2f868b96",
   "metadata": {
    "cell_style": "split",
    "id": "2f868b96",
    "outputId": "596880d5-1afb-4e4b-d148-bc5bb915ac5b"
   },
   "outputs": [],
   "source": [
    "plt.plot(X,Y,'x')\n",
    "plt.show()"
   ]
  }
 ],
 "metadata": {
  "colab": {
   "provenance": []
  },
  "kernelspec": {
   "display_name": "base",
   "language": "python",
   "name": "python3"
  },
  "language_info": {
   "codemirror_mode": {
    "name": "ipython",
    "version": 3
   },
   "file_extension": ".py",
   "mimetype": "text/x-python",
   "name": "python",
   "nbconvert_exporter": "python",
   "pygments_lexer": "ipython3",
   "version": "3.8.8"
  },
  "vscode": {
   "interpreter": {
    "hash": "ad2bdc8ecc057115af97d19610ffacc2b4e99fae6737bb82f5d7fb13d2f2c186"
   }
  }
 },
 "nbformat": 4,
 "nbformat_minor": 5
}
