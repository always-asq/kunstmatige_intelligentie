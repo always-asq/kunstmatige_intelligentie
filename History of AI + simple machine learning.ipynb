{
 "cells": [
  {
   "cell_type": "markdown",
   "id": "12e397e0",
   "metadata": {},
   "source": [
    "**Table of contents**<a id='toc0_'></a>    \n",
    "- [Jeroen van Hoof](#toc1_1_1_1_)    \n",
    "        - [March 2023](#toc1_1_1_1_1_)    \n",
    "  - [Artificial Intelligence](#toc1_2_)    \n",
    "    - [Machine Learning](#toc1_2_1_)    \n",
    "  - [General programming:](#toc1_3_)    \n",
    "  - [Machine learning:](#toc1_4_)    \n",
    "  - [Example of general programming](#toc1_5_)    \n",
    "  - [Example of general programming](#toc1_6_)    \n",
    "  - [Example of general programming](#toc1_7_)    \n",
    "  - [Example of general programming](#toc1_8_)    \n",
    "  - [General programming](#toc1_9_)    \n",
    "  - [Machine learning](#toc1_10_)    \n",
    "  - [We need a neural network](#toc1_11_)    \n",
    "\n",
    "<!-- vscode-jupyter-toc-config\n",
    "\tnumbering=false\n",
    "\tanchor=true\n",
    "\tflat=false\n",
    "\tminLevel=1\n",
    "\tmaxLevel=6\n",
    "\t/vscode-jupyter-toc-config -->\n",
    "<!-- THIS CELL WILL BE REPLACED ON TOC UPDATE. DO NOT WRITE YOUR TEXT IN THIS CELL -->"
   ]
  },
  {
   "attachments": {},
   "cell_type": "markdown",
   "id": "6c24e312",
   "metadata": {},
   "source": [
    "\n",
    "<div align=\"left\">\n",
    "  <span style=\"color:black; font-family:Arial; font-size:3em;\">History of AI + simple machine Learning Introduction</span>\n",
    "</div>\n",
    "\n",
    "\n",
    "#### <a id='toc1_1_1_1_'></a>[Jeroen van Hoof](#toc0_)\n",
    "##### <a id='toc1_1_1_1_1_'></a>[March 2023](#toc0_)\n"
   ]
  },
  {
   "cell_type": "markdown",
   "id": "1864e454",
   "metadata": {
    "cell_style": "split",
    "id": "1864e454"
   },
   "source": [
    "<div align=\"center\">\n",
    "  <span style=\"color:red; font-family:Arial; font-size:2em;\">What is Intelligence?</span>\n",
    "</div>\n",
    "\n",
    "----\n",
    "\n",
    "<div align=\"center\">\n",
    "    <span style=\"color:red\">Intelligence</span> is the ability to adapt one's behaviour to fit new circumstances.\n",
    "</div>"
   ]
  },
  {
   "attachments": {},
   "cell_type": "markdown",
   "id": "50f0a3ad",
   "metadata": {},
   "source": [
    "![alt text](figs/history.png \"History of AI\") "
   ]
  },
  {
   "cell_type": "markdown",
   "id": "6823b738",
   "metadata": {},
   "source": [
    "## <a id='toc1_2_'></a>[Artificial Intelligence](#toc0_)\n",
    "\n",
    "AI is when intelligence is present in an artificial construct, for example a computer\n",
    "\n",
    "### <a id='toc1_2_1_'></a>[Machine Learning](#toc0_)\n",
    "\n",
    "ML is a subset of AI that uses advanced statistics and linear algebra to enable a machine to learn rules that make the machine behave in a way that resembles intelligence"
   ]
  },
  {
   "attachments": {},
   "cell_type": "markdown",
   "id": "5a226f0e",
   "metadata": {},
   "source": [
    "<img src=\"figs/subsets.jpg\" width=\"600px\" align=\"center\">"
   ]
  },
  {
   "cell_type": "markdown",
   "id": "7c822497",
   "metadata": {},
   "source": [
    "## <a id='toc1_3_'></a>[General programming:](#toc0_)\n",
    "\n",
    "1. Data\n",
    "2. Program or Rules\n",
    "3. -> Results\n",
    "\n",
    "## <a id='toc1_4_'></a>[Machine learning:](#toc0_)\n",
    "1. Data\n",
    "2. Results\n",
    "3. -> Rules\n",
    "\n",
    "\n"
   ]
  },
  {
   "attachments": {},
   "cell_type": "markdown",
   "id": "e1c6cb73",
   "metadata": {},
   "source": [
    "\n",
    "<div align=\"center\">\n",
    "        <img src=\"figs/models2.png\" width=\"600px\"></img>\n",
    "</div>"
   ]
  },
  {
   "cell_type": "markdown",
   "id": "3feb74f7",
   "metadata": {},
   "source": [
    "## <a id='toc1_5_'></a>[Example of general programming](#toc0_)\n",
    "\n",
    "<img src=\"figs/activity recognition 1.png\" width=\"50%\"> </img>"
   ]
  },
  {
   "cell_type": "markdown",
   "id": "8ae8c16e",
   "metadata": {},
   "source": [
    "## <a id='toc1_6_'></a>[Example of general programming](#toc0_)\n",
    "\n",
    "<img src=\"figs/activity recognition 2.png\" width=\"50%\"> </img>"
   ]
  },
  {
   "cell_type": "markdown",
   "id": "f90b5314",
   "metadata": {},
   "source": [
    "## <a id='toc1_7_'></a>[Example of general programming](#toc0_)\n",
    "\n",
    "<img src=\"figs/activity recognition 3a.png\" width=\"50%\"> </img>"
   ]
  },
  {
   "cell_type": "markdown",
   "id": "eb6480a0",
   "metadata": {},
   "source": [
    "## <a id='toc1_8_'></a>[Example of general programming](#toc0_)\n",
    "\n",
    "<img src=\"figs/activity recognition 4.png\" width=\"50%\"> </img>"
   ]
  },
  {
   "attachments": {},
   "cell_type": "markdown",
   "id": "aedc596e",
   "metadata": {},
   "source": [
    "## <a id='toc1_9_'></a>[General programming](#toc0_)\n",
    "\n",
    "1. Our data is a set of values for `X`:  \n",
    "`{1.0, 2.0, 4.0, 7.0}`\n",
    "2. The rule is `Y = 2 X - 1`\n",
    "\n",
    "What are the results?"
   ]
  },
  {
   "cell_type": "code",
   "execution_count": null,
   "id": "77a8f703",
   "metadata": {
    "id": "77a8f703"
   },
   "outputs": [],
   "source": [
    "import os\n",
    "import matplotlib.pyplot as plt"
   ]
  },
  {
   "attachments": {},
   "cell_type": "markdown",
   "id": "43ab570a",
   "metadata": {},
   "source": [
    "Set our `X` values and the `Y` values according to our known relationship."
   ]
  },
  {
   "cell_type": "code",
   "execution_count": null,
   "id": "c4f751a7",
   "metadata": {
    "cell_style": "split",
    "colab": {
     "base_uri": "https://localhost:8080/"
    },
    "executionInfo": {
     "elapsed": 4,
     "status": "ok",
     "timestamp": 1665670190773,
     "user": {
      "displayName": "Jeroen B van Hoof",
      "userId": "06852595963407324137"
     },
     "user_tz": -120
    },
    "id": "c4f751a7",
    "outputId": "8e1e4361-d00a-43db-e905-fb18bef9ad66"
   },
   "outputs": [],
   "source": [
    "Xs = [1.0, 2.0, 4.0, 7.0]\n",
    "Ys = [2 * x - 1 for x in Xs]\n",
    "Ys\n"
   ]
  },
  {
   "attachments": {},
   "cell_type": "markdown",
   "id": "5f0f3613",
   "metadata": {},
   "source": [
    "Plot the `X` and `Y` values in a graph."
   ]
  },
  {
   "cell_type": "code",
   "execution_count": null,
   "id": "96d5b6d4",
   "metadata": {
    "cell_style": "split",
    "colab": {
     "base_uri": "https://localhost:8080/",
     "height": 265
    },
    "executionInfo": {
     "elapsed": 348,
     "status": "ok",
     "timestamp": 1665670199947,
     "user": {
      "displayName": "Jeroen B van Hoof",
      "userId": "06852595963407324137"
     },
     "user_tz": -120
    },
    "id": "96d5b6d4",
    "outputId": "ccbc92d5-2cd0-4217-b07c-aa39f799cc70",
    "tags": [
     "hide-input"
    ]
   },
   "outputs": [],
   "source": [
    "# As a graph\n",
    "\n",
    "plt.plot(Xs, Ys, \"bo\")\n",
    "plt.show()\n"
   ]
  },
  {
   "attachments": {},
   "cell_type": "markdown",
   "id": "a189524f",
   "metadata": {},
   "source": [
    "Add the line that is the known relationship between `X` and `Y` to the graph. We do this by drawing a straight line through some known points."
   ]
  },
  {
   "cell_type": "code",
   "execution_count": null,
   "id": "dfc0f129",
   "metadata": {},
   "outputs": [],
   "source": [
    "# Rule for multiple values of X\n",
    "\n",
    "plt.plot(Xs,Ys,\"bo\")\n",
    "# start/end X + start/end Y \n",
    "plt.plot([1.0,10.0],[1.0,19.0],\"y-\")\n",
    "plt.show()"
   ]
  },
  {
   "attachments": {},
   "cell_type": "markdown",
   "id": "705e45ca",
   "metadata": {},
   "source": [
    "This was the story where we know the recipe `Y = 2 X - 1`.  \n",
    "Let's look at how to approach this if we only know what goes in and what comes out of the box."
   ]
  },
  {
   "cell_type": "markdown",
   "id": "c9984ec5",
   "metadata": {},
   "source": [
    "## <a id='toc1_10_'></a>[Machine learning](#toc0_)\n",
    "\n",
    "1. Our data is a set of values for X:   \n",
    "{1.0, 2.0, 4.0, 7.0}\n",
    "2. Our results are a set of Ys:  \n",
    "{1.0, 3.0, 7.0, 13.0}\n",
    "\n",
    "What is the rule?"
   ]
  },
  {
   "cell_type": "markdown",
   "id": "f3a5af52",
   "metadata": {},
   "source": [
    "## <a id='toc1_11_'></a>[We need a neural network](#toc0_)\n",
    "\n",
    "The most simple neural network is the perceptron.  \n",
    "It has one input and one output.\n",
    "\n",
    "<img src=\"figs/perceptron.png\" width=\"50%\"> </img>"
   ]
  },
  {
   "attachments": {},
   "cell_type": "markdown",
   "id": "f6b1da7e",
   "metadata": {},
   "source": [
    "First we import the needed libraries to work with neural networks.  \n",
    "We use Tensorflow from Google and Keras which is a higher level library that makes this more readable."
   ]
  },
  {
   "cell_type": "code",
   "execution_count": null,
   "id": "00405f31",
   "metadata": {
    "cell_style": "center",
    "colab": {
     "base_uri": "https://localhost:8080/"
    },
    "executionInfo": {
     "elapsed": 4207,
     "status": "ok",
     "timestamp": 1665670279480,
     "user": {
      "displayName": "Jeroen B van Hoof",
      "userId": "06852595963407324137"
     },
     "user_tz": -120
    },
    "id": "00405f31",
    "outputId": "a1ddce65-27a5-411f-9cfb-f1bf2e884086"
   },
   "outputs": [],
   "source": [
    "# remove tensorflow warnings\n",
    "os.environ['TF_CPP_MIN_LOG_LEVEL'] = '2'\n",
    "\n",
    "# we will use tensorflow and Keras\n",
    "import tensorflow as tf\n",
    "from tensorflow import keras\n",
    "from tensorflow.keras import layers\n"
   ]
  },
  {
   "attachments": {},
   "cell_type": "markdown",
   "id": "17992faf",
   "metadata": {},
   "source": [
    "We create a sequential model - which means a sequence of layers.  \n",
    "Our model is a one-layer model and the layer only contains one node.\n",
    "\n",
    "This layer that connects all to all is called a Dense layer."
   ]
  },
  {
   "cell_type": "code",
   "execution_count": null,
   "id": "9117df51",
   "metadata": {},
   "outputs": [],
   "source": [
    "\n",
    "# model is our neural network\n",
    "# 1 layer and 1 node = perceptron\n",
    "\n",
    "model = keras.Sequential( [\n",
    "    keras.layers.Dense(1,input_shape=[1]),\n",
    "])\n"
   ]
  },
  {
   "attachments": {},
   "cell_type": "markdown",
   "id": "6ae94163",
   "metadata": {},
   "source": [
    "We show the details of the model as defined in Keras.  \n",
    "Notice the model has 2 parameters."
   ]
  },
  {
   "cell_type": "code",
   "execution_count": null,
   "id": "0456d7ee",
   "metadata": {},
   "outputs": [],
   "source": [
    "model.summary()"
   ]
  },
  {
   "attachments": {},
   "cell_type": "markdown",
   "id": "9806bbe9",
   "metadata": {},
   "source": [
    "More graphically using `visualkeras`."
   ]
  },
  {
   "cell_type": "code",
   "execution_count": null,
   "id": "f0ed1816",
   "metadata": {},
   "outputs": [],
   "source": [
    "import visualkeras\n",
    "visualkeras.layered_view(model, legend=True) # without custom font\n",
    "from PIL import ImageFont\n",
    "font = ImageFont.truetype(\"arial.ttf\", 12)\n",
    "visualkeras.layered_view(model, legend=True, font=font) # selected font"
   ]
  },
  {
   "attachments": {},
   "cell_type": "markdown",
   "id": "85c3edea",
   "metadata": {},
   "source": [
    "Once our model has been defined we can compile it.  \n",
    "This is a step needed before we can train it we the sets of input/output we have."
   ]
  },
  {
   "cell_type": "code",
   "execution_count": null,
   "id": "df60fcf6",
   "metadata": {
    "cell_style": "split",
    "colab": {
     "base_uri": "https://localhost:8080/"
    },
    "executionInfo": {
     "elapsed": 2010,
     "status": "ok",
     "timestamp": 1665670324666,
     "user": {
      "displayName": "Jeroen B van Hoof",
      "userId": "06852595963407324137"
     },
     "user_tz": -120
    },
    "id": "df60fcf6",
    "outputId": "be00a9a9-e12d-4428-849e-80172d67badb"
   },
   "outputs": [],
   "source": [
    "# we compile the model\n",
    "\n",
    "model.compile(\n",
    "    optimizer=tf.optimizers.Adam(0.1),\n",
    "    loss='mean_absolute_error',\n",
    "    metrics=['accuracy'])\n"
   ]
  },
  {
   "attachments": {},
   "cell_type": "markdown",
   "id": "e9f73cba",
   "metadata": {},
   "source": [
    "Next step is to train the model with the `fit` command."
   ]
  },
  {
   "cell_type": "code",
   "execution_count": null,
   "id": "1f54ac6c",
   "metadata": {},
   "outputs": [],
   "source": [
    "\n",
    "# train with our data (Xs) and results (Ys)\n",
    "model.fit(Xs,Ys, epochs=5, verbose=1)"
   ]
  },
  {
   "attachments": {},
   "cell_type": "markdown",
   "id": "7587f5cf",
   "metadata": {},
   "source": [
    "We can now check how good our perceptron is at predicting a `Y` value for a given `X`.  \n",
    "We enter all our `X`s and let it calculate the `Y`s."
   ]
  },
  {
   "cell_type": "code",
   "execution_count": null,
   "id": "ed420d75",
   "metadata": {
    "cell_style": "split",
    "colab": {
     "base_uri": "https://localhost:8080/"
    },
    "executionInfo": {
     "elapsed": 811,
     "status": "ok",
     "timestamp": 1665670364136,
     "user": {
      "displayName": "Jeroen B van Hoof",
      "userId": "06852595963407324137"
     },
     "user_tz": -120
    },
    "id": "ed420d75",
    "outputId": "66908286-7aea-4dbf-979e-8c4e1db095be"
   },
   "outputs": [],
   "source": [
    "# how good is it?\n",
    "# model.predict shows output for input(s)\n",
    "\n",
    "model.predict(Xs)\n"
   ]
  },
  {
   "attachments": {},
   "cell_type": "markdown",
   "id": "5c4837ed",
   "metadata": {},
   "source": [
    "This is not very good yet. So we train some more epochs."
   ]
  },
  {
   "cell_type": "code",
   "execution_count": null,
   "id": "6a706c4d",
   "metadata": {
    "cell_style": "split",
    "colab": {
     "base_uri": "https://localhost:8080/"
    },
    "executionInfo": {
     "elapsed": 2787,
     "status": "ok",
     "timestamp": 1665670391460,
     "user": {
      "displayName": "Jeroen B van Hoof",
      "userId": "06852595963407324137"
     },
     "user_tz": -120
    },
    "id": "6a706c4d",
    "outputId": "866af500-a01d-4ba7-a852-84b3cc03e040"
   },
   "outputs": [],
   "source": [
    "# lets try to learn longer\n",
    "\n",
    "# train with our data (Xs) and results (Ys)\n",
    "model.fit(Xs,Ys, epochs=100, verbose=0)"
   ]
  },
  {
   "attachments": {},
   "cell_type": "markdown",
   "id": "c903bdac",
   "metadata": {},
   "source": [
    "We check the predictions again. These are better."
   ]
  },
  {
   "cell_type": "code",
   "execution_count": null,
   "id": "e44831f9",
   "metadata": {
    "cell_style": "split",
    "colab": {
     "base_uri": "https://localhost:8080/"
    },
    "executionInfo": {
     "elapsed": 854,
     "status": "ok",
     "timestamp": 1665670396839,
     "user": {
      "displayName": "Jeroen B van Hoof",
      "userId": "06852595963407324137"
     },
     "user_tz": -120
    },
    "id": "e44831f9",
    "outputId": "f214def1-693a-46dd-ed8a-66a176857620"
   },
   "outputs": [],
   "source": [
    "# how good is it now?\n",
    "# model.predict shows output for input(s)\n",
    "\n",
    "model.predict(Xs)"
   ]
  },
  {
   "attachments": {},
   "cell_type": "markdown",
   "id": "926e0577",
   "metadata": {},
   "source": [
    "Here we show the actual `Y`s to show the similarity."
   ]
  },
  {
   "cell_type": "code",
   "execution_count": null,
   "id": "0047137c",
   "metadata": {
    "cell_style": "split",
    "colab": {
     "base_uri": "https://localhost:8080/"
    },
    "executionInfo": {
     "elapsed": 304,
     "status": "ok",
     "timestamp": 1665670486221,
     "user": {
      "displayName": "Jeroen B van Hoof",
      "userId": "06852595963407324137"
     },
     "user_tz": -120
    },
    "id": "0047137c",
    "outputId": "f9e78cdc-809e-40ba-c732-f7b6adf7adf4"
   },
   "outputs": [],
   "source": [
    "# our original results\n",
    "Ys"
   ]
  },
  {
   "attachments": {},
   "cell_type": "markdown",
   "id": "23884b1e",
   "metadata": {},
   "source": [
    "Let's look at the graph again as we know it from the relationship between `X` and `Y`."
   ]
  },
  {
   "cell_type": "code",
   "execution_count": null,
   "id": "eef600e9",
   "metadata": {
    "cell_style": "split",
    "colab": {
     "base_uri": "https://localhost:8080/",
     "height": 265
    },
    "executionInfo": {
     "elapsed": 372,
     "status": "ok",
     "timestamp": 1665670490503,
     "user": {
      "displayName": "Jeroen B van Hoof",
      "userId": "06852595963407324137"
     },
     "user_tz": -120
    },
    "id": "eef600e9",
    "outputId": "fdb22870-caaa-4a6f-b037-0e9906ae4d52"
   },
   "outputs": [],
   "source": [
    "# General programming\n",
    "\n",
    "plt.plot(Xs,Ys,\"bo\")\n",
    "# start/end X + start/end Y \n",
    "plt.plot([1.0,10.0],[1.0,19.0],\"y-\")\n",
    "plt.show()"
   ]
  },
  {
   "attachments": {},
   "cell_type": "markdown",
   "id": "92dc8620",
   "metadata": {},
   "source": [
    "Let's look at the line that the model draws.  \n",
    "We do this by picking `X` values at small intervals along the entire graph.  \n",
    "The `X` and `Y` values used to train are the blue dots."
   ]
  },
  {
   "cell_type": "code",
   "execution_count": null,
   "id": "73a81fc1",
   "metadata": {
    "cell_style": "split",
    "colab": {
     "base_uri": "https://localhost:8080/",
     "height": 300
    },
    "executionInfo": {
     "elapsed": 360,
     "status": "ok",
     "timestamp": 1665670516370,
     "user": {
      "displayName": "Jeroen B van Hoof",
      "userId": "06852595963407324137"
     },
     "user_tz": -120
    },
    "id": "73a81fc1",
    "outputId": "37f5538a-2566-42db-b702-9a208eaf9484"
   },
   "outputs": [],
   "source": [
    "# Machine learning\n",
    "\n",
    "plt.plot(Xs,Ys,\"bX\")\n",
    "#generate many outputs with the perceptron\n",
    "Xline = [i * 0.1 for i in range(10,101)]\n",
    "Yline = model.predict(Xline)\n",
    "plt.plot(Xline,Yline,\"y.\")"
   ]
  },
  {
   "attachments": {},
   "cell_type": "markdown",
   "id": "b004d15b",
   "metadata": {},
   "source": [
    "# Linear regression\n",
    "\n",
    "There is actually a mathematical process to get this result without machine learning. This is called linear regression. \n",
    "\n",
    "In essence it boils down to trying lines until you find the one that fits best (has the smallest errors).  \n",
    "Some of the needed terms are shown in the picture below.  \n",
    "<img src=\"figs/fig-lin-reg.webp\" width=\"50%\"> </img>\n",
    "\n",
    "We will use `Numpy` and `scikit-learn` libraries to perform a linear regression on our `X` and `Y` values."
   ]
  },
  {
   "attachments": {},
   "cell_type": "markdown",
   "id": "d671ae5c",
   "metadata": {},
   "source": [
    "First we load the libraries."
   ]
  },
  {
   "cell_type": "code",
   "execution_count": null,
   "id": "d33e2d9f",
   "metadata": {},
   "outputs": [],
   "source": [
    "import numpy as np\n",
    "from sklearn.linear_model import LinearRegression"
   ]
  },
  {
   "attachments": {},
   "cell_type": "markdown",
   "id": "eefdd223",
   "metadata": {},
   "source": [
    "Next we provide our data in a `Numpy` form, so we can use it."
   ]
  },
  {
   "cell_type": "code",
   "execution_count": null,
   "id": "cb547fec",
   "metadata": {},
   "outputs": [],
   "source": [
    "X = np.array([1.0, 2.0, 4.0, 7.0]).reshape((-1, 1))\n",
    "Y = np.array([1.0, 3.0, 7.0, 13.0])\n"
   ]
  },
  {
   "attachments": {},
   "cell_type": "markdown",
   "id": "c384e66a",
   "metadata": {},
   "source": [
    "These now look different.  \n",
    "Let's look at `X`"
   ]
  },
  {
   "cell_type": "code",
   "execution_count": null,
   "id": "dde7bbb6",
   "metadata": {},
   "outputs": [],
   "source": [
    "X"
   ]
  },
  {
   "attachments": {},
   "cell_type": "markdown",
   "id": "13e34c31",
   "metadata": {},
   "source": [
    "And `Y`"
   ]
  },
  {
   "cell_type": "code",
   "execution_count": null,
   "id": "f777921f",
   "metadata": {},
   "outputs": [],
   "source": [
    "Y"
   ]
  },
  {
   "attachments": {},
   "cell_type": "markdown",
   "id": "88498f41",
   "metadata": {},
   "source": [
    "Next we create the model, let's call it `linreg`."
   ]
  },
  {
   "cell_type": "code",
   "execution_count": null,
   "id": "c0d03b1c",
   "metadata": {},
   "outputs": [],
   "source": [
    "linreg = LinearRegression()"
   ]
  },
  {
   "attachments": {},
   "cell_type": "markdown",
   "id": "ee0ace12",
   "metadata": {},
   "source": [
    "Next we fit the model with our data."
   ]
  },
  {
   "cell_type": "code",
   "execution_count": null,
   "id": "d5de3c6b",
   "metadata": {},
   "outputs": [],
   "source": [
    "linreg.fit(X,Y)"
   ]
  },
  {
   "attachments": {},
   "cell_type": "markdown",
   "id": "96063f90",
   "metadata": {},
   "source": [
    "Let's look at the $R^{2}$ , or coefficient of determination."
   ]
  },
  {
   "cell_type": "code",
   "execution_count": null,
   "id": "7ac3929e",
   "metadata": {},
   "outputs": [],
   "source": [
    "r_sq = linreg.score(X, Y)\n",
    "print(f\"coefficient of determination: {r_sq}\")"
   ]
  },
  {
   "attachments": {},
   "cell_type": "markdown",
   "id": "607ef403",
   "metadata": {},
   "source": [
    "The intercept (where the graph crosses the Y-axis) and the slope are:"
   ]
  },
  {
   "cell_type": "code",
   "execution_count": null,
   "id": "21a1f480",
   "metadata": {},
   "outputs": [],
   "source": [
    "print(f\"intercept: {linreg.intercept_}\")\n",
    "\n",
    "print(f\"slope: {linreg.coef_}\")"
   ]
  },
  {
   "attachments": {},
   "cell_type": "markdown",
   "id": "46b31db3",
   "metadata": {},
   "source": [
    "This corresponds exactly to our known relationship:  \n",
    "$Y = slope X + intercept$"
   ]
  },
  {
   "attachments": {},
   "cell_type": "markdown",
   "id": "b1af1bc3",
   "metadata": {},
   "source": [
    "Let's check the predictions for our `X`s."
   ]
  },
  {
   "cell_type": "code",
   "execution_count": null,
   "id": "151d2060",
   "metadata": {},
   "outputs": [],
   "source": [
    "Y_pred = linreg.intercept_ + linreg.coef_ * X\n",
    "print(f\"predicted response:\\n{Y_pred}\")\n",
    "\n",
    "print(f\"and our Y was:\\n{Y}\")"
   ]
  }
 ],
 "metadata": {
  "colab": {
   "provenance": []
  },
  "kernelspec": {
   "display_name": "Python 3 (ipykernel)",
   "language": "python",
   "name": "python3"
  },
  "language_info": {
   "codemirror_mode": {
    "name": "ipython",
    "version": 3
   },
   "file_extension": ".py",
   "mimetype": "text/x-python",
   "name": "python",
   "nbconvert_exporter": "python",
   "pygments_lexer": "ipython3",
   "version": "3.9.7"
  },
  "vscode": {
   "interpreter": {
    "hash": "ad2bdc8ecc057115af97d19610ffacc2b4e99fae6737bb82f5d7fb13d2f2c186"
   }
  }
 },
 "nbformat": 4,
 "nbformat_minor": 5
}
