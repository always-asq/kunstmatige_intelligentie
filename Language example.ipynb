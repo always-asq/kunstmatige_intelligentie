{
 "cells": [
  {
   "attachments": {},
   "cell_type": "markdown",
   "metadata": {},
   "source": [
    "# Natural Language processing (NLP)\n",
    "\n",
    "In this notebook some example for natural language processing.\n",
    "\n",
    "Natural Language refers to the way we humans communicate with each other and processing is basically proceeding the data in an understandable form. so we can say that NLP (Natural Language Processing) is a way that helps computers to communicate with humans in their own language.\n",
    "\n",
    "It is one of the broadest fields in research because there is a huge amount of data out there and from that data, a big amount of data is text data. So when there is so much data available so we need some technique threw which we can process the data and retrieve some useful information from it."
   ]
  },
  {
   "attachments": {},
   "cell_type": "markdown",
   "metadata": {},
   "source": [
    "We shall use NLTK - a python library to help with NLP functions.\n",
    "\n",
    "We are going to look at:\n",
    "* Tokenization\n",
    "* Stopwords\n",
    "* Stemming\n",
    "* Lemmatizer\n",
    "* WordNet\n",
    "* Part of speech tagging\n",
    "* Bag of Words"
   ]
  },
  {
   "attachments": {},
   "cell_type": "markdown",
   "metadata": {},
   "source": [
    "## Tokenization\n",
    "\n",
    "Tokenization is the process of dividing the whole text into tokens.\n",
    "\n",
    "It is mainly of two types:\n",
    "\n",
    "* Word Tokenizer (separated by words)\n",
    "* Sentence Tokenizer (separated by sentence)"
   ]
  },
  {
   "cell_type": "code",
   "execution_count": null,
   "metadata": {},
   "outputs": [],
   "source": [
    "import nltk\n",
    "nltk.download('punkt')\n",
    "from nltk.tokenize import sent_tokenize,word_tokenize\n",
    "example_text = \"Hello there, how are you doing today? The weather is great today. The sky is blue. python is awsome\"\n",
    "print(sent_tokenize(example_text))\n",
    "print(word_tokenize(example_text))"
   ]
  }
 ],
 "metadata": {
  "kernelspec": {
   "display_name": "Python 3 (ipykernel)",
   "language": "python",
   "name": "python3"
  },
  "language_info": {
   "codemirror_mode": {
    "name": "ipython",
    "version": 3
   },
   "file_extension": ".py",
   "mimetype": "text/x-python",
   "name": "python",
   "nbconvert_exporter": "python",
   "pygments_lexer": "ipython3",
   "version": "3.9.7"
  }
 },
 "nbformat": 4,
 "nbformat_minor": 2
}
